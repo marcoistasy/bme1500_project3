{
 "cells": [
  {
   "cell_type": "code",
   "execution_count": 61,
   "id": "650f5afc-1038-4e1a-9cd0-98970d04d102",
   "metadata": {},
   "outputs": [],
   "source": [
    "# imports\n",
    "\n",
    "import os\n",
    "import numpy as np\n",
    "from pathlib import Path \n",
    "import scipy.signal as ss\n",
    "import matplotlib.pyplot as plt\n",
    "import plotly.graph_objects as go\n"
   ]
  },
  {
   "cell_type": "code",
   "execution_count": 45,
   "id": "93fe450f-09f1-4dc9-9896-449b3c648873",
   "metadata": {},
   "outputs": [],
   "source": [
    "# helper function\n",
    "\n",
    "def get_all_files_with_extension(directory, extension):\n",
    "\n",
    "    file_paths = []\n",
    "\n",
    "    for file in os.listdir(directory):\n",
    "\n",
    "        if file.endswith(extension):\n",
    "            file_paths.append(os.path.join(directory, file))\n",
    "\n",
    "    return file_paths"
   ]
  },
  {
   "cell_type": "code",
   "execution_count": 47,
   "id": "3eb5985e-6605-4322-bca9-c4e94a89c5b2",
   "metadata": {},
   "outputs": [],
   "source": [
    "# get all files and load them\n",
    "\n",
    "file_paths = get_all_files_with_extension('/mnt/e/bme1500_project3/npz_files', 'npz')\n",
    "file_names = [Path(file).stem for file in file_paths]\n",
    "files = [np.load(file) for file in file_paths]\n",
    "\n",
    "# extract information from files\n",
    "raw_data = [file['raw_data'] for file in files]\n",
    "frame_rates = [file['sampling_frequency'] for file in files]"
   ]
  },
  {
   "cell_type": "code",
   "execution_count": 67,
   "id": "3ec62231-1a41-43ff-b54b-5974a272c051",
   "metadata": {},
   "outputs": [],
   "source": [
    "# plot original signals - this code chunk can easily be modified to plot individual plots\n",
    "\n",
    "fig = go.Figure(layout=dict(xaxis=dict(title='Time'), yaxis=dict(title='Voltage')))\n",
    "for index, data in enumerate(raw_data):\n",
    "    fig.add_scatter(y=data, name=file_names[index])\n",
    "fig.write_html('all_raw_time_domain.html')"
   ]
  },
  {
   "cell_type": "code",
   "execution_count": null,
   "id": "e9fcf69a-e608-4085-a8c6-d635859b819a",
   "metadata": {},
   "outputs": [],
   "source": [
    "    fig = go.Figure()\n",
    "\n",
    "\n",
    "    fig.update_yaxes(range=[0, 6500])\n",
    "\n",
    "    fig.write_html(\"power_spectra.html\")"
   ]
  },
  {
   "cell_type": "code",
   "execution_count": 74,
   "id": "f3c9c7d7-18e9-4e62-84eb-ad793ca86e9d",
   "metadata": {},
   "outputs": [],
   "source": [
    "for index, data in enumerate(raw_data):\n",
    "    fig = go.Figure() # instantiate figure\n",
    "    f, power = ss.welch(data, fs= frame_rates[index], scaling='spectrum') # psd\n",
    "    fig.add_trace(go.Scatter(x=f, y=power, mode='lines', name=file_names[index])) # add trace\n",
    "    fig.update_xaxes(range=[0, frame_rates[index] / 2]) # update range of xaxis\n",
    "    fig.update_layout(title=\"Frequency V Power\", xaxis_title='frequency [Hz]', yaxis_title='Power') # update titles\n",
    "    fig.write_html('{}_raw_frequency_domain.html'.format(file_names[index])) # save figure"
   ]
  },
  {
   "cell_type": "code",
   "execution_count": null,
   "id": "fbdcf6ca-0ead-4e1b-aa20-c6b8ba783c89",
   "metadata": {},
   "outputs": [],
   "source": []
  }
 ],
 "metadata": {
  "kernelspec": {
   "display_name": "Python 3 (ipykernel)",
   "language": "python",
   "name": "python3"
  },
  "language_info": {
   "codemirror_mode": {
    "name": "ipython",
    "version": 3
   },
   "file_extension": ".py",
   "mimetype": "text/x-python",
   "name": "python",
   "nbconvert_exporter": "python",
   "pygments_lexer": "ipython3",
   "version": "3.7.11"
  }
 },
 "nbformat": 4,
 "nbformat_minor": 5
}
